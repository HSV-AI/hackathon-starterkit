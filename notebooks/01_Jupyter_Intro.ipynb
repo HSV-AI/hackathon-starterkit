{
 "cells": [
  {
   "cell_type": "markdown",
   "metadata": {
    "colab_type": "text",
    "id": "za-oTckAGPK5"
   },
   "source": [
    "# Analyzing Data with Jupyter Notebook\n",
    "\n",
    "This notebook is based in part on the Data Science Handbook by Jake VanderPlas that you can find [here](https://colab.research.google.com/github/jakevdp/PythonDataScienceHandbook/blob/master/notebooks/Index.ipynb)\n",
    "\n"
   ]
  },
  {
   "cell_type": "markdown",
   "metadata": {
    "colab_type": "text",
    "id": "pnUHuX50QYXr"
   },
   "source": [
    "## IPython Tips\n",
    "\n",
    "Here are a few tips that will help you get started using a Jupyter Notebook."
   ]
  },
  {
   "cell_type": "markdown",
   "metadata": {
    "colab_type": "text",
    "id": "gUwRN2KvH057"
   },
   "source": [
    "### Tip 1 - Help\n",
    "\n",
    "You can use the ? character at the end of a function or type to access the help for that function or type."
   ]
  },
  {
   "cell_type": "code",
   "execution_count": 1,
   "metadata": {
    "colab": {},
    "colab_type": "code",
    "id": "lJTd6ksBG-x5"
   },
   "outputs": [
    {
     "data": {
      "text/plain": [
       "\u001b[0;31mSignature:\u001b[0m \u001b[0mlen\u001b[0m\u001b[0;34m(\u001b[0m\u001b[0mobj\u001b[0m\u001b[0;34m,\u001b[0m \u001b[0;34m/\u001b[0m\u001b[0;34m)\u001b[0m\u001b[0;34m\u001b[0m\u001b[0;34m\u001b[0m\u001b[0m\n",
       "\u001b[0;31mDocstring:\u001b[0m Return the number of items in a container.\n",
       "\u001b[0;31mType:\u001b[0m      builtin_function_or_method"
      ]
     },
     "metadata": {},
     "output_type": "display_data"
    }
   ],
   "source": [
    "# Let's create a list and see how to get the length\n",
    "v = [1.0, 2.0, 3.0]\n",
    "len?"
   ]
  },
  {
   "cell_type": "code",
   "execution_count": 2,
   "metadata": {
    "colab": {},
    "colab_type": "code",
    "id": "MXi6H5VAICiO"
   },
   "outputs": [
    {
     "data": {
      "text/plain": [
       "3"
      ]
     },
     "execution_count": 2,
     "metadata": {},
     "output_type": "execute_result"
    }
   ],
   "source": [
    "len(v)"
   ]
  },
  {
   "cell_type": "code",
   "execution_count": 3,
   "metadata": {
    "colab": {},
    "colab_type": "code",
    "id": "sttwBBxTIPHr"
   },
   "outputs": [
    {
     "data": {
      "text/plain": [
       "\u001b[0;31mType:\u001b[0m        list\n",
       "\u001b[0;31mString form:\u001b[0m [1.0, 2.0, 3.0]\n",
       "\u001b[0;31mLength:\u001b[0m      3\n",
       "\u001b[0;31mDocstring:\u001b[0m  \n",
       "Built-in mutable sequence.\n",
       "\n",
       "If no argument is given, the constructor creates a new empty list.\n",
       "The argument must be an iterable if specified."
      ]
     },
     "metadata": {},
     "output_type": "display_data"
    }
   ],
   "source": [
    "# We can even get information about the list itself:\n",
    "v?"
   ]
  },
  {
   "cell_type": "code",
   "execution_count": 4,
   "metadata": {
    "colab": {},
    "colab_type": "code",
    "id": "9dz5PQIgIZ5c"
   },
   "outputs": [],
   "source": [
    "# Let's create a function with a helpful description\n",
    "def empty_function():\n",
    "  \"\"\"This is just an empty function. Please don't call it.\"\"\"\n",
    "  return 1"
   ]
  },
  {
   "cell_type": "code",
   "execution_count": 5,
   "metadata": {
    "colab": {},
    "colab_type": "code",
    "id": "JLegzO6FIlub"
   },
   "outputs": [
    {
     "data": {
      "text/plain": [
       "\u001b[0;31mSignature:\u001b[0m \u001b[0mempty_function\u001b[0m\u001b[0;34m(\u001b[0m\u001b[0;34m)\u001b[0m\u001b[0;34m\u001b[0m\u001b[0;34m\u001b[0m\u001b[0m\n",
       "\u001b[0;31mDocstring:\u001b[0m This is just an empty function. Please don't call it.\n",
       "\u001b[0;31mFile:\u001b[0m      /tmp/ipykernel_4971/3378048660.py\n",
       "\u001b[0;31mType:\u001b[0m      function"
      ]
     },
     "metadata": {},
     "output_type": "display_data"
    }
   ],
   "source": [
    "# Now the description is available by asking for help\n",
    "empty_function?"
   ]
  },
  {
   "cell_type": "code",
   "execution_count": 6,
   "metadata": {
    "colab": {},
    "colab_type": "code",
    "id": "AlqzP97UIqwi"
   },
   "outputs": [
    {
     "data": {
      "text/plain": [
       "\u001b[0;31mSignature:\u001b[0m \u001b[0mempty_function\u001b[0m\u001b[0;34m(\u001b[0m\u001b[0;34m)\u001b[0m\u001b[0;34m\u001b[0m\u001b[0;34m\u001b[0m\u001b[0m\n",
       "\u001b[0;31mSource:\u001b[0m   \n",
       "\u001b[0;32mdef\u001b[0m \u001b[0mempty_function\u001b[0m\u001b[0;34m(\u001b[0m\u001b[0;34m)\u001b[0m\u001b[0;34m:\u001b[0m\u001b[0;34m\u001b[0m\n",
       "\u001b[0;34m\u001b[0m  \u001b[0;34m\"\"\"This is just an empty function. Please don't call it.\"\"\"\u001b[0m\u001b[0;34m\u001b[0m\n",
       "\u001b[0;34m\u001b[0m  \u001b[0;32mreturn\u001b[0m \u001b[0;36m1\u001b[0m\u001b[0;34m\u001b[0m\u001b[0;34m\u001b[0m\u001b[0m\n",
       "\u001b[0;31mFile:\u001b[0m      /tmp/ipykernel_4971/3378048660.py\n",
       "\u001b[0;31mType:\u001b[0m      function"
      ]
     },
     "metadata": {},
     "output_type": "display_data"
    }
   ],
   "source": [
    "# Two question marks will display the source for the function\n",
    "empty_function??"
   ]
  },
  {
   "cell_type": "markdown",
   "metadata": {
    "colab_type": "text",
    "id": "1hrks5SxJSFD"
   },
   "source": [
    "### Tip 2 - Tab Completion\n",
    "\n",
    "Well, I was going to add a section about how to use the \\<TAB\\> key to autocomplete, but it appears that Colab already has that feature built into the editor.\n",
    "\n",
    "Just in case, try the command \n",
    "\n",
    "?>v.\\<TAB\\> \n",
    "\n",
    "below:"
   ]
  },
  {
   "cell_type": "code",
   "execution_count": null,
   "metadata": {
    "colab": {},
    "colab_type": "code",
    "id": "kv6TjozhJKM3"
   },
   "outputs": [],
   "source": []
  },
  {
   "cell_type": "markdown",
   "metadata": {
    "colab_type": "text",
    "id": "GF9tGhNWK07S"
   },
   "source": [
    "### Tip 3 - Magic Commands\n",
    "\n",
    "No really, they are called magic because they start with a '%'\n",
    "\n",
    "One of the most useful commands that can be used to split up a large notebook is the %run magic command. Using it, you\n",
    "can run external python scripts or even IPython notebooks \n",
    "inside the context of the current notebook.\n",
    "\n",
    "An example of this can be found in the HSV-AI Bug Analysis notebook [here](https://colab.research.google.com/github/HSV-AI/bug-analysis/blob/master/Doc2Vec.ipynb)\n",
    "\n",
    "Two other very useful magic commands are **%time** and **%timeit**\n"
   ]
  },
  {
   "cell_type": "code",
   "execution_count": 7,
   "metadata": {
    "colab": {},
    "colab_type": "code",
    "id": "IYtien9FL4SR"
   },
   "outputs": [
    {
     "name": "stdout",
     "output_type": "stream",
     "text": [
      "Here's the output of the %timeit command:\n",
      "42.5 µs ± 651 ns per loop (mean ± std. dev. of 7 runs, 10,000 loops each)\n",
      "\n",
      "Here's the output of the %time command:\n",
      "CPU times: user 41 µs, sys: 0 ns, total: 41 µs\n",
      "Wall time: 47.4 µs\n"
     ]
    }
   ],
   "source": [
    "# Using an example directly from VanderPlas:\n",
    "print(\"Here's the output of the %timeit command:\")\n",
    "%timeit L = [n ** 2 for n in range(1000)]\n",
    "\n",
    "print(\"\\nHere's the output of the %time command:\")\n",
    "%time  L = [n ** 2 for n in range(1000)]"
   ]
  },
  {
   "cell_type": "markdown",
   "metadata": {
    "colab_type": "text",
    "id": "5XEEjJL7NuTY"
   },
   "source": [
    "### Tip 4 - Suppressing Output\n",
    "\n",
    "Jupyter will send the result of the last command from a cell to the output. Sometimes you just want it to stay quiet though - especically if you are generating plots and other items that do not need the ouput text inserted.\n",
    "\n",
    "In order to suppress the output, just end the line with a ';'"
   ]
  },
  {
   "cell_type": "code",
   "execution_count": 8,
   "metadata": {
    "colab": {},
    "colab_type": "code",
    "id": "f3kDLxQIOISR"
   },
   "outputs": [
    {
     "data": {
      "text/plain": [
       "'This little piggy had roast beef'"
      ]
     },
     "execution_count": 8,
     "metadata": {},
     "output_type": "execute_result"
    }
   ],
   "source": [
    "# This code has output\n",
    "p1 = 'This little piggy had roast beef'\n",
    "p1"
   ]
  },
  {
   "cell_type": "code",
   "execution_count": 9,
   "metadata": {
    "colab": {},
    "colab_type": "code",
    "id": "HQbnhFDtORM5"
   },
   "outputs": [],
   "source": [
    "# This code does not have output\n",
    "p2 = 'This little piggy had none'\n",
    "p2;"
   ]
  },
  {
   "cell_type": "markdown",
   "metadata": {
    "colab_type": "text",
    "id": "8GDXO9yFOn54"
   },
   "source": [
    "### Tip 5 - %history Magic\n",
    "\n",
    "This particular piece of magic is very helpful when you may have run cells out of order and are trying to troubleshoot what happened in what order."
   ]
  },
  {
   "cell_type": "code",
   "execution_count": 10,
   "metadata": {
    "colab": {},
    "colab_type": "code",
    "id": "xQIc8VxqOkZf"
   },
   "outputs": [
    {
     "name": "stdout",
     "output_type": "stream",
     "text": [
      "# Let's create a list and see how to get the length\n",
      "v = [1.0, 2.0, 3.0]\n",
      "len?\n",
      "len(v)\n",
      "# We can even get information about the list itself:\n",
      "v?\n",
      "# Let's create a function with a helpful description\n",
      "def empty_function():\n",
      "  \"\"\"This is just an empty function. Please don't call it.\"\"\"\n",
      "  return 1\n",
      "# Now the description is available by asking for help\n",
      "empty_function?\n",
      "# Two question marks will display the source for the function\n",
      "empty_function??\n",
      "# Using an example directly from VanderPlas:\n",
      "print(\"Here's the output of the %timeit command:\")\n",
      "%timeit L = [n ** 2 for n in range(1000)]\n",
      "\n",
      "print(\"\\nHere's the output of the %time command:\")\n",
      "%time  L = [n ** 2 for n in range(1000)]\n",
      "# This code has output\n",
      "p1 = 'This little piggy had roast beef'\n",
      "p1\n",
      "# This code does not have output\n",
      "p2 = 'This little piggy had none'\n",
      "p2;\n",
      "%history\n"
     ]
    }
   ],
   "source": [
    "%history"
   ]
  },
  {
   "cell_type": "markdown",
   "metadata": {
    "colab_type": "text",
    "id": "_CnXfWNcKuAH"
   },
   "source": [
    "### Tip 6- Shell Commands\n",
    "\n",
    "Most Linux shell commands are available from the Jupyter notebook as well. One good example is shown below and sets us up to start doing some data analysis."
   ]
  },
  {
   "cell_type": "code",
   "execution_count": 11,
   "metadata": {
    "colab": {
     "base_uri": "https://localhost:8080/",
     "height": 202
    },
    "colab_type": "code",
    "id": "-R0wLdL7EU5F",
    "outputId": "f2281724-8099-4bd6-a545-add125705431"
   },
   "outputs": [
    {
     "name": "stdout",
     "output_type": "stream",
     "text": [
      "--2024-01-19 17:05:14--  https://data.nasa.gov/api/views/gh4g-9sfh/rows.csv\n",
      "Resolving data.nasa.gov (data.nasa.gov)... 128.102.186.77, 2001:4d0:6311:2c05:60b0:5ad8:1210:ea07\n",
      "Connecting to data.nasa.gov (data.nasa.gov)|128.102.186.77|:443... connected.\n",
      "HTTP request sent, awaiting response... 200 OK\n",
      "Length: unspecified [text/csv]\n",
      "Saving to: ‘rows.csv.3’\n",
      "\n",
      "rows.csv.3              [      <=>           ]   3.77M  2.86MB/s    in 1.3s    \n",
      "\n",
      "2024-01-19 17:05:16 (2.86 MB/s) - ‘rows.csv.3’ saved [3952161]\n",
      "\n"
     ]
    }
   ],
   "source": [
    "!wget https://data.nasa.gov/api/views/gh4g-9sfh/rows.csv"
   ]
  }
 ],
 "metadata": {
  "colab": {
   "include_colab_link": true,
   "name": "191002_Data_Analysis_Jupyter.ipynb",
   "provenance": [],
   "toc_visible": true
  },
  "kernelspec": {
   "display_name": "Python 3 (ipykernel)",
   "language": "python",
   "name": "python3"
  },
  "language_info": {
   "codemirror_mode": {
    "name": "ipython",
    "version": 3
   },
   "file_extension": ".py",
   "mimetype": "text/x-python",
   "name": "python",
   "nbconvert_exporter": "python",
   "pygments_lexer": "ipython3",
   "version": "3.11.7"
  }
 },
 "nbformat": 4,
 "nbformat_minor": 4
}
